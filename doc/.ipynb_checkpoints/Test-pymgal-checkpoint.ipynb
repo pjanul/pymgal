{
 "cells": [
  {
   "cell_type": "markdown",
   "metadata": {
    "deletable": true,
    "editable": true
   },
   "source": [
    "<H1><center>pymgal example</center></H1>"
   ]
  },
  {
   "cell_type": "code",
   "execution_count": 1,
   "metadata": {
    "collapsed": false,
    "deletable": true,
    "editable": true
   },
   "outputs": [],
   "source": [
    "import pymgal  # import the model -- install requirements, numpy, astropy, pyfits, scipy\n",
    "import numpy as np\n",
    "import matplotlib\n",
    "%matplotlib inline\n",
    "import pylab as pl"
   ]
  },
  {
   "cell_type": "markdown",
   "metadata": {},
   "source": [
    "## import SSP models"
   ]
  },
  {
   "cell_type": "raw",
   "metadata": {
    "deletable": true,
    "editable": true
   },
   "source": [
    "Load simple stellar population models.\n",
    "\n",
    "model = SSP_model(model_file, IMF=\"chab\", metal=[], is_ised=False, is_fits=False,\n",
    "    is_ascii=False, has_masses=False, units='a', age_units='gyrs', nsample=None)\n",
    "\n",
    "model_file : File name for the SSP models. Only \"name\" + _ + \"model\",\n",
    "             such as c09_exp, or bc03_ssp. The whole name of the model\n",
    "             must be name_model_z_XXX_IMF.model (or .ised, .txt, .fits)\n",
    "             \n",
    "IMF        : Name of the Initial mass function. Default: \"chab\"\n",
    "             Specify one of these IMF names: \"chab\", \"krou\" or \"salp\"\n",
    "             \n",
    "metal      : The metallicity of the model. Specify at here if you only\n",
    "             want one or several metallicity included. Default: [],\n",
    "             all metallicity models are included to do interpolation.\n",
    "             \n",
    "nsample    : The frequency sample points. Default: None, uses the model\n",
    "             frequences. Otherwise, the interpolated frequency will be used.\n",
    "             For the popurse of reducing required memory.\n",
    "             Int number or list, numpy array. If int number, frequency will be\n",
    "             assigned equally between min and max of model frequency.\n",
    "             If list, or numpy array, it will be directly interpolated with\n",
    "             the model frequency.\n",
    "             Note, must be consistent with the units.          "
   ]
  },
  {
   "cell_type": "code",
   "execution_count": 2,
   "metadata": {
    "collapsed": false,
    "deletable": true,
    "editable": true
   },
   "outputs": [
    {
     "name": "stdout",
     "output_type": "stream",
     "text": [
      "Searching SSP model files, found: /home/weiguang/.local/lib/python3.5/site-packages/pymgal-1.0.0-py3.5.egg/pymgal/models/bc03_ssp_z_0.008_chab.model\n"
     ]
    }
   ],
   "source": [
    "mm=pymgal.SSP_models(\"bc03_ssp\", metal=[0.008])"
   ]
  },
  {
   "cell_type": "markdown",
   "metadata": {},
   "source": [
    "## load simulation data"
   ]
  },
  {
   "cell_type": "raw",
   "metadata": {},
   "source": [
    "load analysing data from simulation snapshots (gadget format), yt, or raw data.\n",
    "\n",
    "data = load_data(snapname='', snapshot=False, yt_data=None,\n",
    "                 datafile=None, center=None, radius=None)\n"
   ]
  },
  {
   "cell_type": "code",
   "execution_count": 3,
   "metadata": {
    "collapsed": false
   },
   "outputs": [],
   "source": [
    "simd=pymgal.load_data(snapname=\"/home/weiguang/Downloads/snap_127\",snapshot=True,\n",
    "                      center=[500000,500000,500000], radius=250)"
   ]
  },
  {
   "cell_type": "markdown",
   "metadata": {},
   "source": [
    "### define projection direction and pixel size"
   ]
  },
  {
   "cell_type": "code",
   "execution_count": 4,
   "metadata": {
    "collapsed": false
   },
   "outputs": [
    {
     "name": "stderr",
     "output_type": "stream",
     "text": [
      "/home/weiguang/.local/lib/python3.5/site-packages/pymgal-1.0.0-py3.5.egg/pymgal/load_data.py:146: RuntimeWarning: invalid value encountered in true_divide\n",
      "  nx, nx], weights=self.S_age * self.S_mass)[0] / self.grid_mass  # mass weighted age\n",
      "/home/weiguang/.local/lib/python3.5/site-packages/pymgal-1.0.0-py3.5.egg/pymgal/load_data.py:148: RuntimeWarning: invalid value encountered in true_divide\n",
      "  nx, nx], weights=self.S_metal * self.S_mass)[0] / self.grid_mass  # mass weighted metal\n"
     ]
    }
   ],
   "source": [
    "simd.rotate_grid(axis='z',nx=512)"
   ]
  },
  {
   "cell_type": "markdown",
   "metadata": {},
   "source": [
    "## load filters"
   ]
  },
  {
   "cell_type": "code",
   "execution_count": 5,
   "metadata": {
    "collapsed": false
   },
   "outputs": [],
   "source": [
    "filters = pymgal.filters(f_name=\"sloan_r\")"
   ]
  },
  {
   "cell_type": "markdown",
   "metadata": {},
   "source": [
    "## Dust function before get seds"
   ]
  },
  {
   "cell_type": "raw",
   "metadata": {},
   "source": [
    "Currently pymgal only has charlot_fall (200) dust law."
   ]
  },
  {
   "cell_type": "code",
   "execution_count": 6,
   "metadata": {
    "collapsed": true
   },
   "outputs": [],
   "source": [
    "dustf=pymgal.dusts.charlot_fall()"
   ]
  },
  {
   "cell_type": "markdown",
   "metadata": {},
   "source": [
    "## Now get seds"
   ]
  },
  {
   "cell_type": "code",
   "execution_count": 7,
   "metadata": {
    "collapsed": false
   },
   "outputs": [
    {
     "ename": "MemoryError",
     "evalue": "",
     "output_type": "error",
     "traceback": [
      "\u001b[0;31m---------------------------------------------------------------------------\u001b[0m",
      "\u001b[0;31mMemoryError\u001b[0m                               Traceback (most recent call last)",
      "\u001b[0;32m<ipython-input-7-e6818ecf4934>\u001b[0m in \u001b[0;36m<module>\u001b[0;34m()\u001b[0m\n\u001b[0;32m----> 1\u001b[0;31m \u001b[0mseds\u001b[0m\u001b[0;34m=\u001b[0m\u001b[0mmm\u001b[0m\u001b[0;34m.\u001b[0m\u001b[0mget_seds\u001b[0m\u001b[0;34m(\u001b[0m\u001b[0msimd\u001b[0m\u001b[0;34m,\u001b[0m\u001b[0mdust_func\u001b[0m\u001b[0;34m=\u001b[0m\u001b[0mdustf\u001b[0m\u001b[0;34m)\u001b[0m\u001b[0;34m\u001b[0m\u001b[0m\n\u001b[0m",
      "\u001b[0;32m/home/weiguang/.local/lib/python3.5/site-packages/pymgal-1.0.0-py3.5.egg/pymgal/SSP_models.py\u001b[0m in \u001b[0;36mget_seds\u001b[0;34m(self, simdata, dust_func, units)\u001b[0m\n\u001b[1;32m    402\u001b[0m                                        \u001b[0mvalues\u001b[0m\u001b[0;34m=\u001b[0m\u001b[0mseds\u001b[0m\u001b[0;34m,\u001b[0m\u001b[0;34m\u001b[0m\u001b[0m\n\u001b[1;32m    403\u001b[0m                                        \u001b[0mbins\u001b[0m\u001b[0;34m=\u001b[0m\u001b[0;34m[\u001b[0m\u001b[0msimdata\u001b[0m\u001b[0;34m.\u001b[0m\u001b[0mnx\u001b[0m\u001b[0;34m,\u001b[0m \u001b[0msimdata\u001b[0m\u001b[0;34m.\u001b[0m\u001b[0mnx\u001b[0m\u001b[0;34m]\u001b[0m\u001b[0;34m,\u001b[0m\u001b[0;34m\u001b[0m\u001b[0m\n\u001b[0;32m--> 404\u001b[0;31m                                        statistic='sum')[0]\n\u001b[0m\u001b[1;32m    405\u001b[0m \u001b[0;34m\u001b[0m\u001b[0m\n\u001b[1;32m    406\u001b[0m         \u001b[0munits\u001b[0m \u001b[0;34m=\u001b[0m \u001b[0munits\u001b[0m\u001b[0;34m.\u001b[0m\u001b[0mlower\u001b[0m\u001b[0;34m(\u001b[0m\u001b[0;34m)\u001b[0m\u001b[0;34m\u001b[0m\u001b[0m\n",
      "\u001b[0;32m/usr/local/lib/python3.5/dist-packages/scipy/stats/_binned_statistic.py\u001b[0m in \u001b[0;36mbinned_statistic_2d\u001b[0;34m(x, y, values, statistic, bins, range, expand_binnumbers)\u001b[0m\n\u001b[1;32m    335\u001b[0m     medians, edges, binnumbers = binned_statistic_dd(\n\u001b[1;32m    336\u001b[0m         \u001b[0;34m[\u001b[0m\u001b[0mx\u001b[0m\u001b[0;34m,\u001b[0m \u001b[0my\u001b[0m\u001b[0;34m]\u001b[0m\u001b[0;34m,\u001b[0m \u001b[0mvalues\u001b[0m\u001b[0;34m,\u001b[0m \u001b[0mstatistic\u001b[0m\u001b[0;34m,\u001b[0m \u001b[0mbins\u001b[0m\u001b[0;34m,\u001b[0m \u001b[0mrange\u001b[0m\u001b[0;34m,\u001b[0m\u001b[0;34m\u001b[0m\u001b[0m\n\u001b[0;32m--> 337\u001b[0;31m         expand_binnumbers=expand_binnumbers)\n\u001b[0m\u001b[1;32m    338\u001b[0m \u001b[0;34m\u001b[0m\u001b[0m\n\u001b[1;32m    339\u001b[0m     \u001b[0;32mreturn\u001b[0m \u001b[0mBinnedStatistic2dResult\u001b[0m\u001b[0;34m(\u001b[0m\u001b[0mmedians\u001b[0m\u001b[0;34m,\u001b[0m \u001b[0medges\u001b[0m\u001b[0;34m[\u001b[0m\u001b[0;36m0\u001b[0m\u001b[0;34m]\u001b[0m\u001b[0;34m,\u001b[0m \u001b[0medges\u001b[0m\u001b[0;34m[\u001b[0m\u001b[0;36m1\u001b[0m\u001b[0;34m]\u001b[0m\u001b[0;34m,\u001b[0m \u001b[0mbinnumbers\u001b[0m\u001b[0;34m)\u001b[0m\u001b[0;34m\u001b[0m\u001b[0m\n",
      "\u001b[0;32m/usr/local/lib/python3.5/dist-packages/scipy/stats/_binned_statistic.py\u001b[0m in \u001b[0;36mbinned_statistic_dd\u001b[0;34m(sample, values, statistic, bins, range, expand_binnumbers)\u001b[0m\n\u001b[1;32m    537\u001b[0m     \u001b[0mbinnumbers\u001b[0m \u001b[0;34m+=\u001b[0m \u001b[0msampBin\u001b[0m\u001b[0;34m[\u001b[0m\u001b[0mni\u001b[0m\u001b[0;34m[\u001b[0m\u001b[0;34m-\u001b[0m\u001b[0;36m1\u001b[0m\u001b[0;34m]\u001b[0m\u001b[0;34m]\u001b[0m\u001b[0;34m\u001b[0m\u001b[0m\n\u001b[1;32m    538\u001b[0m \u001b[0;34m\u001b[0m\u001b[0m\n\u001b[0;32m--> 539\u001b[0;31m     \u001b[0mresult\u001b[0m \u001b[0;34m=\u001b[0m \u001b[0mnp\u001b[0m\u001b[0;34m.\u001b[0m\u001b[0mempty\u001b[0m\u001b[0;34m(\u001b[0m\u001b[0;34m[\u001b[0m\u001b[0mVdim\u001b[0m\u001b[0;34m,\u001b[0m \u001b[0mnbin\u001b[0m\u001b[0;34m.\u001b[0m\u001b[0mprod\u001b[0m\u001b[0;34m(\u001b[0m\u001b[0;34m)\u001b[0m\u001b[0;34m]\u001b[0m\u001b[0;34m,\u001b[0m \u001b[0mfloat\u001b[0m\u001b[0;34m)\u001b[0m\u001b[0;34m\u001b[0m\u001b[0m\n\u001b[0m\u001b[1;32m    540\u001b[0m \u001b[0;34m\u001b[0m\u001b[0m\n\u001b[1;32m    541\u001b[0m     \u001b[0;32mif\u001b[0m \u001b[0mstatistic\u001b[0m \u001b[0;34m==\u001b[0m \u001b[0;34m'mean'\u001b[0m\u001b[0;34m:\u001b[0m\u001b[0;34m\u001b[0m\u001b[0m\n",
      "\u001b[0;31mMemoryError\u001b[0m: "
     ]
    }
   ],
   "source": [
    "seds=mm.get_seds(simd,dust_func=dustf)"
   ]
  },
  {
   "cell_type": "markdown",
   "metadata": {},
   "source": [
    "## calculate mag"
   ]
  },
  {
   "cell_type": "code",
   "execution_count": null,
   "metadata": {
    "collapsed": false
   },
   "outputs": [],
   "source": [
    "mag = filters.calc_mag(mm.vs['0.008'],seds,z=0.1)"
   ]
  },
  {
   "cell_type": "code",
   "execution_count": null,
   "metadata": {
    "collapsed": true
   },
   "outputs": [],
   "source": [
    "mag_nodust = filters.calc_mag(mm.vs['0.008'],seds_nodust,z=0.1)"
   ]
  },
  {
   "cell_type": "code",
   "execution_count": null,
   "metadata": {
    "collapsed": false
   },
   "outputs": [],
   "source": [
    "pl.plot(simd.S_pos[:,0],simd.S_pos[:,1],'r.')"
   ]
  },
  {
   "cell_type": "code",
   "execution_count": null,
   "metadata": {
    "collapsed": false
   },
   "outputs": [],
   "source": [
    "pl.scatter(simd.S_pos[:,0],simd.S_pos[:,1],s=4,c=mag['sloan_r'])\n",
    "pl.colorbar()"
   ]
  },
  {
   "cell_type": "code",
   "execution_count": null,
   "metadata": {
    "collapsed": false
   },
   "outputs": [],
   "source": [
    "mm2=pymgal.SSP_models(\"bc03_ssp\", metal=[0.008])"
   ]
  },
  {
   "cell_type": "code",
   "execution_count": null,
   "metadata": {
    "collapsed": false
   },
   "outputs": [],
   "source": [
    "pl.scatter(simd.S_pos[:,0],simd.S_pos[:,1],s=4,c=mag_nodust['sloan_r'])\n",
    "pl.colorbar()"
   ]
  }
 ],
 "metadata": {
  "kernelspec": {
   "display_name": "Python 3",
   "language": "python",
   "name": "python3"
  },
  "language_info": {
   "codemirror_mode": {
    "name": "ipython",
    "version": 3
   },
   "file_extension": ".py",
   "mimetype": "text/x-python",
   "name": "python",
   "nbconvert_exporter": "python",
   "pygments_lexer": "ipython3",
   "version": "3.5.2"
  },
  "latex_envs": {
   "LaTeX_envs_menu_present": true,
   "bibliofile": "biblio.bib",
   "cite_by": "apalike",
   "current_citInitial": 1,
   "eqLabelWithNumbers": true,
   "eqNumInitial": 1,
   "hotkeys": {
    "equation": "Ctrl-E",
    "itemize": "Ctrl-I"
   },
   "labels_anchors": false,
   "latex_user_defs": false,
   "report_style_numbering": false,
   "user_envs_cfg": false
  }
 },
 "nbformat": 4,
 "nbformat_minor": 2
}
