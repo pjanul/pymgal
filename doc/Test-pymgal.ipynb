{
 "cells": [
  {
   "cell_type": "markdown",
   "metadata": {
    "deletable": true,
    "editable": true
   },
   "source": [
    "<H1><center>pymgal example</center></H1>"
   ]
  },
  {
   "cell_type": "code",
   "execution_count": 1,
   "metadata": {
    "collapsed": false,
    "deletable": true,
    "editable": true
   },
   "outputs": [],
   "source": [
    "import pymgal  # import the model -- install requirements, numpy, astropy, pyfits, scipy\n",
    "import numpy as np\n",
    "import matplotlib\n",
    "%matplotlib inline\n",
    "import pylab as pl"
   ]
  },
  {
   "cell_type": "markdown",
   "metadata": {
    "deletable": true,
    "editable": true
   },
   "source": [
    "## import SSP models"
   ]
  },
  {
   "cell_type": "raw",
   "metadata": {
    "deletable": true,
    "editable": true
   },
   "source": [
    "Load simple stellar population models.\n",
    "\n",
    "model = SSP_model(model_file, IMF=\"chab\", metal=[], is_ised=False, is_fits=False,\n",
    "    is_ascii=False, has_masses=False, units='a', age_units='gyrs', nsample=None)\n",
    "\n",
    "model_file : File name for the SSP models. Only \"name\" + _ + \"model\",\n",
    "             such as c09_exp, or bc03_ssp. The whole name of the model\n",
    "             must be name_model_z_XXX_IMF.model (or .ised, .txt, .fits)\n",
    "             \n",
    "IMF        : Name of the Initial mass function. Default: \"chab\"\n",
    "             Specify one of these IMF names: \"chab\", \"krou\" or \"salp\"\n",
    "             \n",
    "metal      : The metallicity of the model. Specify at here if you only\n",
    "             want one or several metallicity included. Default: [],\n",
    "             all metallicity models are included to do interpolation.\n",
    "             \n",
    "nsample    : The frequency sample points. Default: None, uses the model\n",
    "             frequences. Otherwise, the interpolated frequency will be used.\n",
    "             For the popurse of reducing required memory.\n",
    "             Int number or list, numpy array. If int number, frequency will be\n",
    "             assigned equally between min and max of model frequency.\n",
    "             If list, or numpy array, it will be directly interpolated with\n",
    "             the model frequency.\n",
    "             Note, must be consistent with the units.          "
   ]
  },
  {
   "cell_type": "code",
   "execution_count": 2,
   "metadata": {
    "collapsed": false,
    "deletable": true,
    "editable": true
   },
   "outputs": [
    {
     "name": "stdout",
     "output_type": "stream",
     "text": [
      "Searching SSP model files, found: /home/weiguang/.local/lib/python3.5/site-packages/pymgal-1.0.0-py3.5.egg/pymgal/models/bc03_ssp_z_0.008_chab.model\n"
     ]
    }
   ],
   "source": [
    "mm=pymgal.SSP_models(\"bc03_ssp\", metal=[0.008],nsample=1000)"
   ]
  },
  {
   "cell_type": "markdown",
   "metadata": {
    "deletable": true,
    "editable": true
   },
   "source": [
    "## load simulation data"
   ]
  },
  {
   "cell_type": "raw",
   "metadata": {
    "deletable": true,
    "editable": true
   },
   "source": [
    "load analysing data from simulation snapshots (gadget format), yt, or raw data.\n",
    "\n",
    "data = load_data(snapname='', snapshot=False, yt_data=None,\n",
    "                 datafile=None, center=None, radius=None)\n"
   ]
  },
  {
   "cell_type": "code",
   "execution_count": 3,
   "metadata": {
    "collapsed": false,
    "deletable": true,
    "editable": true
   },
   "outputs": [],
   "source": [
    "simd=pymgal.load_data(snapname=\"/home/weiguang/Downloads/snap_127\",snapshot=True,\n",
    "                      center=[500000,500000,500000], radius=250)"
   ]
  },
  {
   "cell_type": "markdown",
   "metadata": {
    "deletable": true,
    "editable": true
   },
   "source": [
    "### define projection direction and pixel size"
   ]
  },
  {
   "cell_type": "code",
   "execution_count": 4,
   "metadata": {
    "collapsed": false,
    "deletable": true,
    "editable": true
   },
   "outputs": [],
   "source": [
    "simd.rotate_grid(axis='z',nx=128)"
   ]
  },
  {
   "cell_type": "markdown",
   "metadata": {
    "deletable": true,
    "editable": true
   },
   "source": [
    "## load filters"
   ]
  },
  {
   "cell_type": "code",
   "execution_count": 7,
   "metadata": {
    "collapsed": false,
    "deletable": true,
    "editable": true
   },
   "outputs": [],
   "source": [
    "filters = pymgal.filters(f_name=\"sloan_r\")"
   ]
  },
  {
   "cell_type": "markdown",
   "metadata": {
    "deletable": true,
    "editable": true
   },
   "source": [
    "## Dust function before get seds"
   ]
  },
  {
   "cell_type": "raw",
   "metadata": {
    "deletable": true,
    "editable": true
   },
   "source": [
    "Currently pymgal only has charlot_fall (200) dust law."
   ]
  },
  {
   "cell_type": "code",
   "execution_count": 8,
   "metadata": {
    "collapsed": true,
    "deletable": true,
    "editable": true
   },
   "outputs": [],
   "source": [
    "dustf=pymgal.dusts.charlot_fall()"
   ]
  },
  {
   "cell_type": "markdown",
   "metadata": {
    "deletable": true,
    "editable": true
   },
   "source": [
    "## Now get seds"
   ]
  },
  {
   "cell_type": "code",
   "execution_count": 12,
   "metadata": {
    "collapsed": false,
    "deletable": true,
    "editable": true
   },
   "outputs": [],
   "source": [
    "seds=mm.get_seds(simd,dust_func=dustf)\n",
    "seds_nodust = mm.get_seds(simd)"
   ]
  },
  {
   "cell_type": "markdown",
   "metadata": {
    "deletable": true,
    "editable": true
   },
   "source": [
    "## calculate mag"
   ]
  },
  {
   "cell_type": "code",
   "execution_count": 10,
   "metadata": {
    "collapsed": false,
    "deletable": true,
    "editable": true
   },
   "outputs": [
    {
     "name": "stderr",
     "output_type": "stream",
     "text": [
      "/home/weiguang/.local/lib/python3.5/site-packages/pymgal-1.0.0-py3.5.egg/pymgal/filters.py:274: RuntimeWarning: divide by zero encountered in log10\n",
      "  np.log10(sed_flux / self.ab_flux[i]) + app + to_vega\n"
     ]
    }
   ],
   "source": [
    "mag = filters.calc_mag(mm.vs['0.008'],seds,z=0.1)"
   ]
  },
  {
   "cell_type": "code",
   "execution_count": 13,
   "metadata": {
    "collapsed": false,
    "deletable": true,
    "editable": true
   },
   "outputs": [
    {
     "name": "stderr",
     "output_type": "stream",
     "text": [
      "/home/weiguang/.local/lib/python3.5/site-packages/pymgal-1.0.0-py3.5.egg/pymgal/filters.py:274: RuntimeWarning: divide by zero encountered in log10\n",
      "  np.log10(sed_flux / self.ab_flux[i]) + app + to_vega\n"
     ]
    }
   ],
   "source": [
    "mag_nodust = filters.calc_mag(mm.vs['0.008'],seds_nodust,z=0.1)"
   ]
  },
  {
   "cell_type": "code",
   "execution_count": 17,
   "metadata": {
    "collapsed": false
   },
   "outputs": [
    {
     "name": "stdout",
     "output_type": "stream",
     "text": [
      "(128, 128) (128, 128)\n"
     ]
    }
   ],
   "source": [
    "print(mag['sloan_r'].shape, mag_nodust['sloan_r'].shape)"
   ]
  },
  {
   "cell_type": "code",
   "execution_count": 21,
   "metadata": {
    "collapsed": false
   },
   "outputs": [
    {
     "data": {
      "text/plain": [
       "<matplotlib.colorbar.Colorbar at 0x7f9ef339c5c0>"
      ]
     },
     "execution_count": 21,
     "metadata": {},
     "output_type": "execute_result"
    },
    {
     "data": {
      "image/png": "[encoded data removed]",
      "text/plain": [
       "<matplotlib.figure.Figure at 0x7f9ef34706a0>"
      ]
     },
     "metadata": {},
     "output_type": "display_data"
    }
   ],
   "source": [
    "pl.imshow(mag['sloan_r'].T,origin='lower')\n",
    "pl.colorbar()"
   ]
  },
  {
   "cell_type": "code",
   "execution_count": 23,
   "metadata": {
    "collapsed": false
   },
   "outputs": [
    {
     "data": {
      "text/plain": [
       "<matplotlib.colorbar.Colorbar at 0x7f9ef32a5630>"
      ]
     },
     "execution_count": 23,
     "metadata": {},
     "output_type": "execute_result"
    },
    {
     "data": {
      "image/png": "[encoded data removed]",
      "text/plain": [
       "<matplotlib.figure.Figure at 0x7f9ef33276d8>"
      ]
     },
     "metadata": {},
     "output_type": "display_data"
    }
   ],
   "source": [
    "pl.imshow(mag_nodust['sloan_r'].T,origin='lower')\n",
    "pl.colorbar()"
   ]
  },
  {
   "cell_type": "code",
   "execution_count": 22,
   "metadata": {
    "collapsed": false,
    "deletable": true,
    "editable": true
   },
   "outputs": [
    {
     "data": {
      "text/plain": [
       "[<matplotlib.lines.Line2D at 0x7f9ef3314128>]"
      ]
     },
     "execution_count": 22,
     "metadata": {},
     "output_type": "execute_result"
    },
    {
     "data": {
      "image/png": "[encoded data removed]",
      "text/plain": [
       "<matplotlib.figure.Figure at 0x7f9ef33a6390>"
      ]
     },
     "metadata": {},
     "output_type": "display_data"
    }
   ],
   "source": [
    "pl.plot(simd.S_pos[:,0],simd.S_pos[:,1],'r.')"
   ]
  },
  {
   "cell_type": "code",
   "execution_count": null,
   "metadata": {
    "collapsed": false,
    "deletable": true,
    "editable": true
   },
   "outputs": [],
   "source": [
    "pl.scatter(simd.S_pos[:,0],simd.S_pos[:,1],s=4,c=mag['sloan_r'])\n",
    "pl.colorbar()"
   ]
  },
  {
   "cell_type": "code",
   "execution_count": null,
   "metadata": {
    "collapsed": false,
    "deletable": true,
    "editable": true
   },
   "outputs": [],
   "source": [
    "mm2=pymgal.SSP_models(\"bc03_ssp\", metal=[0.008])"
   ]
  },
  {
   "cell_type": "code",
   "execution_count": null,
   "metadata": {
    "collapsed": false,
    "deletable": true,
    "editable": true
   },
   "outputs": [],
   "source": [
    "pl.scatter(simd.S_pos[:,0],simd.S_pos[:,1],s=4,c=mag_nodust['sloan_r'])\n",
    "pl.colorbar()"
   ]
  }
 ],
 "metadata": {
  "kernelspec": {
   "display_name": "Python 3",
   "language": "python",
   "name": "python3"
  },
  "language_info": {
   "codemirror_mode": {
    "name": "ipython",
    "version": 3
   },
   "file_extension": ".py",
   "mimetype": "text/x-python",
   "name": "python",
   "nbconvert_exporter": "python",
   "pygments_lexer": "ipython3",
   "version": "3.5.2"
  },
  "latex_envs": {
   "LaTeX_envs_menu_present": true,
   "bibliofile": "biblio.bib",
   "cite_by": "apalike",
   "current_citInitial": 1,
   "eqLabelWithNumbers": true,
   "eqNumInitial": 1,
   "hotkeys": {
    "equation": "Ctrl-E",
    "itemize": "Ctrl-I"
   },
   "labels_anchors": false,
   "latex_user_defs": false,
   "report_style_numbering": false,
   "user_envs_cfg": false
  }
 },
 "nbformat": 4,
 "nbformat_minor": 2
}
